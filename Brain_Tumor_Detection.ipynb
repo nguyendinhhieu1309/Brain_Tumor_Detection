{
 "cells": [
  {
   "cell_type": "code",
   "execution_count": 1,
   "metadata": {},
   "outputs": [],
   "source": [
    "import numpy as np\n",
    "import pandas as pd\n",
    "import matplotlib.pyplot as plt\n",
    "from sklearn.model_selection import train_test_split\n",
    "from sklearn.metrics import accuracy_score\n",
    "import os\n",
    "import cv2\n",
    "import tkinter as tk\n",
    "from tkinter import filedialog, Label, Button, Toplevel\n",
    "from PIL import Image, ImageTk"
   ]
  },
  {
   "cell_type": "code",
   "execution_count": 2,
   "metadata": {},
   "outputs": [],
   "source": [
    "# Define the dataset path and classes\n",
    "path = 'D:/BrainTumorDetection/Training'\n",
    "classes = {'notumor': 0, 'pituitary_tumor': 1, 'glioma': 2, 'meningioma': 3}\n",
    "X = []\n",
    "Y = []"
   ]
  },
  {
   "cell_type": "code",
   "execution_count": 3,
   "metadata": {},
   "outputs": [],
   "source": [
    "# Load and preprocess the dataset\n",
    "for cls in classes:\n",
    "    pth = os.path.join(path, cls)\n",
    "    if not os.path.exists(pth):\n",
    "        print(f\"Directory {pth} does not exist.\")\n",
    "        continue\n",
    "    for j in os.listdir(pth):\n",
    "        img = cv2.imread(os.path.join(pth, j), 0)\n",
    "        img = cv2.resize(img, (200, 200))  # Ensure the size is 200x200\n",
    "        X.append(img)\n",
    "        Y.append(classes[cls])"
   ]
  },
  {
   "cell_type": "code",
   "execution_count": null,
   "metadata": {},
   "outputs": [],
   "source": [
    "X = np.array(X)\n",
    "Y = np.array(Y)\n",
    "\n",
    "# Reshape and split the data\n",
    "X_updated = X.reshape(len(X), -1)\n",
    "xtrain, xtest, ytrain, ytest = train_test_split(X_updated, Y, random_state=10, test_size=.20)\n",
    "xtrain = xtrain / 255\n",
    "xtest = xtest / 255"
   ]
  },
  {
   "cell_type": "code",
   "execution_count": null,
   "metadata": {},
   "outputs": [],
   "source": [
    "# Train models\n",
    "from sklearn.linear_model import LogisticRegression\n",
    "from sklearn.svm import SVC\n",
    "\n",
    "lg = LogisticRegression(C=0.1)\n",
    "lg.fit(xtrain, ytrain)\n",
    "sv = SVC()\n",
    "sv.fit(xtrain, ytrain)"
   ]
  },
  {
   "cell_type": "code",
   "execution_count": null,
   "metadata": {},
   "outputs": [],
   "source": [
    "# Tkinter interface for image selection and prediction\n",
    "def predict_image():\n",
    "    file_path = filedialog.askopenfilename()\n",
    "    if file_path:\n",
    "        img = cv2.imread(file_path, 0)\n",
    "        img_resized = cv2.resize(img, (200, 200)).reshape(1, -1) / 255  # Ensure the size is 200x200\n",
    "        prediction = sv.predict(img_resized)\n",
    "        result = dec[prediction[0]]\n",
    "        \n",
    "        display_image(file_path, result)\n",
    "\n",
    "def display_image(file_path, result):\n",
    "    top = Toplevel()\n",
    "    top.title(\"Prediction Result\")\n",
    "    top.geometry(\"700x800\")  # Adjusted window size for larger display\n",
    "    \n",
    "    img = Image.open(file_path)\n",
    "    img = img.resize((500, 500), Image.LANCZOS)  # Adjusted image size for larger display\n",
    "    img_tk = ImageTk.PhotoImage(img)\n",
    "    \n",
    "    img_label = Label(top, image=img_tk)\n",
    "    img_label.image = img_tk\n",
    "    img_label.pack(pady=20)  # Added padding for better spacing\n",
    "    \n",
    "    result_label = Label(top, text=\"Prediction: \" + result, font=(\"Helvetica\", 16))\n",
    "    result_label.pack()"
   ]
  },
  {
   "cell_type": "code",
   "execution_count": null,
   "metadata": {},
   "outputs": [],
   "source": [
    "# Main GUI\n",
    "root = tk.Tk()\n",
    "root.title(\"Brain Tumor Detection\")\n",
    "root.geometry(\"600x500\")  # Adjusted main window size\n",
    "\n",
    "dec = {0: 'No Tumor', 1: 'Pituitary Tumor', 2: 'Glioma', 3: 'Meningioma'}\n",
    "\n",
    "select_button = Button(root, text=\"Select an Image\", command=predict_image, font=(\"Helvetica\", 14))\n",
    "select_button.pack(pady=50)  # Added padding for better spacing\n",
    "\n",
    "root.mainloop()"
   ]
  }
 ],
 "metadata": {
  "kernelspec": {
   "display_name": "Python 3",
   "language": "python",
   "name": "python3"
  },
  "language_info": {
   "codemirror_mode": {
    "name": "ipython",
    "version": 3
   },
   "file_extension": ".py",
   "mimetype": "text/x-python",
   "name": "python",
   "nbconvert_exporter": "python",
   "pygments_lexer": "ipython3",
   "version": "3.12.3"
  }
 },
 "nbformat": 4,
 "nbformat_minor": 2
}
